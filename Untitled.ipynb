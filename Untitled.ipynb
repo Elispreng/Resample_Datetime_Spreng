{
 "cells": [
  {
   "cell_type": "markdown",
   "id": "2a1e427b",
   "metadata": {},
   "source": [
    "# Create Project"
   ]
  },
  {
   "cell_type": "code",
   "execution_count": 24,
   "id": "79d64fb4",
   "metadata": {},
   "outputs": [],
   "source": [
    "#import libraries\n",
    "import pandas as pd\n",
    "import matplotlib.pyplot as plt\n",
    "import seaborn as sns\n",
    "from matplotlib import dates as mdates\n"
   ]
  },
  {
   "cell_type": "code",
   "execution_count": 25,
   "id": "115dae26",
   "metadata": {},
   "outputs": [
    {
     "data": {
      "text/html": [
       "<div>\n",
       "<style scoped>\n",
       "    .dataframe tbody tr th:only-of-type {\n",
       "        vertical-align: middle;\n",
       "    }\n",
       "\n",
       "    .dataframe tbody tr th {\n",
       "        vertical-align: top;\n",
       "    }\n",
       "\n",
       "    .dataframe thead th {\n",
       "        text-align: right;\n",
       "    }\n",
       "</style>\n",
       "<table border=\"1\" class=\"dataframe\">\n",
       "  <thead>\n",
       "    <tr style=\"text-align: right;\">\n",
       "      <th></th>\n",
       "      <th>date</th>\n",
       "      <th>cloud_cover</th>\n",
       "      <th>sunshine</th>\n",
       "      <th>global_radiation</th>\n",
       "      <th>max_temp</th>\n",
       "      <th>mean_temp</th>\n",
       "      <th>min_temp</th>\n",
       "      <th>precipitation</th>\n",
       "      <th>pressure</th>\n",
       "      <th>snow_depth</th>\n",
       "    </tr>\n",
       "  </thead>\n",
       "  <tbody>\n",
       "    <tr>\n",
       "      <th>0</th>\n",
       "      <td>19790101</td>\n",
       "      <td>2.0</td>\n",
       "      <td>7.0</td>\n",
       "      <td>52.0</td>\n",
       "      <td>2.3</td>\n",
       "      <td>-4.1</td>\n",
       "      <td>-7.5</td>\n",
       "      <td>0.4</td>\n",
       "      <td>101900.0</td>\n",
       "      <td>9.0</td>\n",
       "    </tr>\n",
       "    <tr>\n",
       "      <th>1</th>\n",
       "      <td>19790102</td>\n",
       "      <td>6.0</td>\n",
       "      <td>1.7</td>\n",
       "      <td>27.0</td>\n",
       "      <td>1.6</td>\n",
       "      <td>-2.6</td>\n",
       "      <td>-7.5</td>\n",
       "      <td>0.0</td>\n",
       "      <td>102530.0</td>\n",
       "      <td>8.0</td>\n",
       "    </tr>\n",
       "    <tr>\n",
       "      <th>2</th>\n",
       "      <td>19790103</td>\n",
       "      <td>5.0</td>\n",
       "      <td>0.0</td>\n",
       "      <td>13.0</td>\n",
       "      <td>1.3</td>\n",
       "      <td>-2.8</td>\n",
       "      <td>-7.2</td>\n",
       "      <td>0.0</td>\n",
       "      <td>102050.0</td>\n",
       "      <td>4.0</td>\n",
       "    </tr>\n",
       "    <tr>\n",
       "      <th>3</th>\n",
       "      <td>19790104</td>\n",
       "      <td>8.0</td>\n",
       "      <td>0.0</td>\n",
       "      <td>13.0</td>\n",
       "      <td>-0.3</td>\n",
       "      <td>-2.6</td>\n",
       "      <td>-6.5</td>\n",
       "      <td>0.0</td>\n",
       "      <td>100840.0</td>\n",
       "      <td>2.0</td>\n",
       "    </tr>\n",
       "    <tr>\n",
       "      <th>4</th>\n",
       "      <td>19790105</td>\n",
       "      <td>6.0</td>\n",
       "      <td>2.0</td>\n",
       "      <td>29.0</td>\n",
       "      <td>5.6</td>\n",
       "      <td>-0.8</td>\n",
       "      <td>-1.4</td>\n",
       "      <td>0.0</td>\n",
       "      <td>102250.0</td>\n",
       "      <td>1.0</td>\n",
       "    </tr>\n",
       "    <tr>\n",
       "      <th>...</th>\n",
       "      <td>...</td>\n",
       "      <td>...</td>\n",
       "      <td>...</td>\n",
       "      <td>...</td>\n",
       "      <td>...</td>\n",
       "      <td>...</td>\n",
       "      <td>...</td>\n",
       "      <td>...</td>\n",
       "      <td>...</td>\n",
       "      <td>...</td>\n",
       "    </tr>\n",
       "    <tr>\n",
       "      <th>15336</th>\n",
       "      <td>20201227</td>\n",
       "      <td>1.0</td>\n",
       "      <td>0.9</td>\n",
       "      <td>32.0</td>\n",
       "      <td>7.5</td>\n",
       "      <td>7.5</td>\n",
       "      <td>7.6</td>\n",
       "      <td>2.0</td>\n",
       "      <td>98000.0</td>\n",
       "      <td>NaN</td>\n",
       "    </tr>\n",
       "    <tr>\n",
       "      <th>15337</th>\n",
       "      <td>20201228</td>\n",
       "      <td>7.0</td>\n",
       "      <td>3.7</td>\n",
       "      <td>38.0</td>\n",
       "      <td>3.6</td>\n",
       "      <td>1.1</td>\n",
       "      <td>-1.3</td>\n",
       "      <td>0.2</td>\n",
       "      <td>97370.0</td>\n",
       "      <td>NaN</td>\n",
       "    </tr>\n",
       "    <tr>\n",
       "      <th>15338</th>\n",
       "      <td>20201229</td>\n",
       "      <td>7.0</td>\n",
       "      <td>0.0</td>\n",
       "      <td>21.0</td>\n",
       "      <td>4.1</td>\n",
       "      <td>2.6</td>\n",
       "      <td>1.1</td>\n",
       "      <td>0.0</td>\n",
       "      <td>98830.0</td>\n",
       "      <td>NaN</td>\n",
       "    </tr>\n",
       "    <tr>\n",
       "      <th>15339</th>\n",
       "      <td>20201230</td>\n",
       "      <td>6.0</td>\n",
       "      <td>0.4</td>\n",
       "      <td>22.0</td>\n",
       "      <td>5.6</td>\n",
       "      <td>2.7</td>\n",
       "      <td>-0.1</td>\n",
       "      <td>0.0</td>\n",
       "      <td>100200.0</td>\n",
       "      <td>NaN</td>\n",
       "    </tr>\n",
       "    <tr>\n",
       "      <th>15340</th>\n",
       "      <td>20201231</td>\n",
       "      <td>7.0</td>\n",
       "      <td>1.3</td>\n",
       "      <td>34.0</td>\n",
       "      <td>1.5</td>\n",
       "      <td>-0.8</td>\n",
       "      <td>-3.1</td>\n",
       "      <td>0.0</td>\n",
       "      <td>100500.0</td>\n",
       "      <td>NaN</td>\n",
       "    </tr>\n",
       "  </tbody>\n",
       "</table>\n",
       "<p>15341 rows × 10 columns</p>\n",
       "</div>"
      ],
      "text/plain": [
       "           date  cloud_cover  sunshine  global_radiation  max_temp  mean_temp  \\\n",
       "0      19790101          2.0       7.0              52.0       2.3       -4.1   \n",
       "1      19790102          6.0       1.7              27.0       1.6       -2.6   \n",
       "2      19790103          5.0       0.0              13.0       1.3       -2.8   \n",
       "3      19790104          8.0       0.0              13.0      -0.3       -2.6   \n",
       "4      19790105          6.0       2.0              29.0       5.6       -0.8   \n",
       "...         ...          ...       ...               ...       ...        ...   \n",
       "15336  20201227          1.0       0.9              32.0       7.5        7.5   \n",
       "15337  20201228          7.0       3.7              38.0       3.6        1.1   \n",
       "15338  20201229          7.0       0.0              21.0       4.1        2.6   \n",
       "15339  20201230          6.0       0.4              22.0       5.6        2.7   \n",
       "15340  20201231          7.0       1.3              34.0       1.5       -0.8   \n",
       "\n",
       "       min_temp  precipitation  pressure  snow_depth  \n",
       "0          -7.5            0.4  101900.0         9.0  \n",
       "1          -7.5            0.0  102530.0         8.0  \n",
       "2          -7.2            0.0  102050.0         4.0  \n",
       "3          -6.5            0.0  100840.0         2.0  \n",
       "4          -1.4            0.0  102250.0         1.0  \n",
       "...         ...            ...       ...         ...  \n",
       "15336       7.6            2.0   98000.0         NaN  \n",
       "15337      -1.3            0.2   97370.0         NaN  \n",
       "15338       1.1            0.0   98830.0         NaN  \n",
       "15339      -0.1            0.0  100200.0         NaN  \n",
       "15340      -3.1            0.0  100500.0         NaN  \n",
       "\n",
       "[15341 rows x 10 columns]"
      ]
     },
     "execution_count": 25,
     "metadata": {},
     "output_type": "execute_result"
    }
   ],
   "source": [
    "#load data\n",
    "url ='london_weather_MODIFIED - london_weather_MODIFIED.csv'\n",
    "df = pd.read_csv(url)\n",
    "df"
   ]
  },
  {
   "cell_type": "code",
   "execution_count": null,
   "id": "81bfd243",
   "metadata": {},
   "outputs": [],
   "source": [
    "def plot_dates(ts,figsize=(12,4),xtick_fontsize='large', xtick_fontweight='bold',\n",
    "               title= None):## Make the fig and axis first\n",
    "    \n",
    "    if title is None:\n",
    "        title = ts.name\n",
    "    # plot the time series with pandas\n",
    "    fig, ax = plt.subplots(figsize=figsize)\n",
    "    ts.plot(ax=ax,title=title);\n",
    "    \n",
    "    ## creating our tick locators and formatters\n",
    "    ## for minor month ticks\n",
    "    # create the locator to place ticks every 3 months.\n",
    "    loc_3months = mdates.MonthLocator(interval=3)\n",
    "    fmt_months = mdates.DateFormatter(\"%b\")\n",
    "    ## for major year ticks\n",
    "    loc_year = mdates.YearLocator()\n",
    "    fmt_year = mdates.DateFormatter(\"%Y\")\n",
    "    \n",
    "    ## Change the font of the major ticks to stand out\n",
    "    ax.set_xticks(ax.get_xticks())\n",
    "    ax.set_xticklabels(ax.get_xticklabels(), \n",
    "                       fontsize=xtick_fontsize, \n",
    "                       fontweight=xtick_fontweight) \n",
    "    \n",
    "    ## customize minor ticks\n",
    "    ax.xaxis.set_minor_locator(loc_3months)\n",
    "    ax.xaxis.set_minor_formatter(fmt_months)\n",
    "    ## customize major ticks\n",
    "    ax.xaxis.set_major_locator(loc_year)\n",
    "    ax.xaxis.set_major_formatter(fmt_year)\n",
    "    ## Making major/minor gridlines visually distinct\n",
    "    ax.grid(which='minor',axis='x',ls=\":\")\n",
    "    ax.grid(which='major',axis='x',color='k')\n",
    "    ## rotate the dates\n",
    "    fig.autofmt_xdate(which='major',rotation=90,ha='center')\n",
    "    return fig,ax\n",
    "plot_dates(ts);"
   ]
  },
  {
   "cell_type": "markdown",
   "id": "2e3156ec",
   "metadata": {},
   "source": [
    "# Prepare the data"
   ]
  },
  {
   "cell_type": "code",
   "execution_count": 14,
   "id": "27fd949b",
   "metadata": {},
   "outputs": [
    {
     "data": {
      "text/plain": [
       "0       1979-01-01\n",
       "1       1979-01-02\n",
       "2       1979-01-03\n",
       "3       1979-01-04\n",
       "4       1979-01-05\n",
       "           ...    \n",
       "15336   2020-12-27\n",
       "15337   2020-12-28\n",
       "15338   2020-12-29\n",
       "15339   2020-12-30\n",
       "15340   2020-12-31\n",
       "Name: date, Length: 15341, dtype: datetime64[ns]"
      ]
     },
     "execution_count": 14,
     "metadata": {},
     "output_type": "execute_result"
    }
   ],
   "source": [
    "# convert to date time\n",
    "df['date'] = pd.to_datetime(df['date'], format='%Y%m%d')\n",
    "df['date']"
   ]
  },
  {
   "cell_type": "code",
   "execution_count": 15,
   "id": "3d59dbd5",
   "metadata": {},
   "outputs": [
    {
     "data": {
      "text/html": [
       "<div>\n",
       "<style scoped>\n",
       "    .dataframe tbody tr th:only-of-type {\n",
       "        vertical-align: middle;\n",
       "    }\n",
       "\n",
       "    .dataframe tbody tr th {\n",
       "        vertical-align: top;\n",
       "    }\n",
       "\n",
       "    .dataframe thead th {\n",
       "        text-align: right;\n",
       "    }\n",
       "</style>\n",
       "<table border=\"1\" class=\"dataframe\">\n",
       "  <thead>\n",
       "    <tr style=\"text-align: right;\">\n",
       "      <th></th>\n",
       "      <th>cloud_cover</th>\n",
       "      <th>sunshine</th>\n",
       "      <th>global_radiation</th>\n",
       "      <th>max_temp</th>\n",
       "      <th>mean_temp</th>\n",
       "      <th>min_temp</th>\n",
       "      <th>precipitation</th>\n",
       "      <th>pressure</th>\n",
       "      <th>snow_depth</th>\n",
       "    </tr>\n",
       "    <tr>\n",
       "      <th>date</th>\n",
       "      <th></th>\n",
       "      <th></th>\n",
       "      <th></th>\n",
       "      <th></th>\n",
       "      <th></th>\n",
       "      <th></th>\n",
       "      <th></th>\n",
       "      <th></th>\n",
       "      <th></th>\n",
       "    </tr>\n",
       "  </thead>\n",
       "  <tbody>\n",
       "    <tr>\n",
       "      <th>1979-01-01</th>\n",
       "      <td>2.0</td>\n",
       "      <td>7.0</td>\n",
       "      <td>52.0</td>\n",
       "      <td>2.3</td>\n",
       "      <td>-4.1</td>\n",
       "      <td>-7.5</td>\n",
       "      <td>0.4</td>\n",
       "      <td>101900.0</td>\n",
       "      <td>9.0</td>\n",
       "    </tr>\n",
       "    <tr>\n",
       "      <th>1979-01-02</th>\n",
       "      <td>6.0</td>\n",
       "      <td>1.7</td>\n",
       "      <td>27.0</td>\n",
       "      <td>1.6</td>\n",
       "      <td>-2.6</td>\n",
       "      <td>-7.5</td>\n",
       "      <td>0.0</td>\n",
       "      <td>102530.0</td>\n",
       "      <td>8.0</td>\n",
       "    </tr>\n",
       "    <tr>\n",
       "      <th>1979-01-03</th>\n",
       "      <td>5.0</td>\n",
       "      <td>0.0</td>\n",
       "      <td>13.0</td>\n",
       "      <td>1.3</td>\n",
       "      <td>-2.8</td>\n",
       "      <td>-7.2</td>\n",
       "      <td>0.0</td>\n",
       "      <td>102050.0</td>\n",
       "      <td>4.0</td>\n",
       "    </tr>\n",
       "    <tr>\n",
       "      <th>1979-01-04</th>\n",
       "      <td>8.0</td>\n",
       "      <td>0.0</td>\n",
       "      <td>13.0</td>\n",
       "      <td>-0.3</td>\n",
       "      <td>-2.6</td>\n",
       "      <td>-6.5</td>\n",
       "      <td>0.0</td>\n",
       "      <td>100840.0</td>\n",
       "      <td>2.0</td>\n",
       "    </tr>\n",
       "    <tr>\n",
       "      <th>1979-01-05</th>\n",
       "      <td>6.0</td>\n",
       "      <td>2.0</td>\n",
       "      <td>29.0</td>\n",
       "      <td>5.6</td>\n",
       "      <td>-0.8</td>\n",
       "      <td>-1.4</td>\n",
       "      <td>0.0</td>\n",
       "      <td>102250.0</td>\n",
       "      <td>1.0</td>\n",
       "    </tr>\n",
       "    <tr>\n",
       "      <th>...</th>\n",
       "      <td>...</td>\n",
       "      <td>...</td>\n",
       "      <td>...</td>\n",
       "      <td>...</td>\n",
       "      <td>...</td>\n",
       "      <td>...</td>\n",
       "      <td>...</td>\n",
       "      <td>...</td>\n",
       "      <td>...</td>\n",
       "    </tr>\n",
       "    <tr>\n",
       "      <th>2020-12-27</th>\n",
       "      <td>1.0</td>\n",
       "      <td>0.9</td>\n",
       "      <td>32.0</td>\n",
       "      <td>7.5</td>\n",
       "      <td>7.5</td>\n",
       "      <td>7.6</td>\n",
       "      <td>2.0</td>\n",
       "      <td>98000.0</td>\n",
       "      <td>NaN</td>\n",
       "    </tr>\n",
       "    <tr>\n",
       "      <th>2020-12-28</th>\n",
       "      <td>7.0</td>\n",
       "      <td>3.7</td>\n",
       "      <td>38.0</td>\n",
       "      <td>3.6</td>\n",
       "      <td>1.1</td>\n",
       "      <td>-1.3</td>\n",
       "      <td>0.2</td>\n",
       "      <td>97370.0</td>\n",
       "      <td>NaN</td>\n",
       "    </tr>\n",
       "    <tr>\n",
       "      <th>2020-12-29</th>\n",
       "      <td>7.0</td>\n",
       "      <td>0.0</td>\n",
       "      <td>21.0</td>\n",
       "      <td>4.1</td>\n",
       "      <td>2.6</td>\n",
       "      <td>1.1</td>\n",
       "      <td>0.0</td>\n",
       "      <td>98830.0</td>\n",
       "      <td>NaN</td>\n",
       "    </tr>\n",
       "    <tr>\n",
       "      <th>2020-12-30</th>\n",
       "      <td>6.0</td>\n",
       "      <td>0.4</td>\n",
       "      <td>22.0</td>\n",
       "      <td>5.6</td>\n",
       "      <td>2.7</td>\n",
       "      <td>-0.1</td>\n",
       "      <td>0.0</td>\n",
       "      <td>100200.0</td>\n",
       "      <td>NaN</td>\n",
       "    </tr>\n",
       "    <tr>\n",
       "      <th>2020-12-31</th>\n",
       "      <td>7.0</td>\n",
       "      <td>1.3</td>\n",
       "      <td>34.0</td>\n",
       "      <td>1.5</td>\n",
       "      <td>-0.8</td>\n",
       "      <td>-3.1</td>\n",
       "      <td>0.0</td>\n",
       "      <td>100500.0</td>\n",
       "      <td>NaN</td>\n",
       "    </tr>\n",
       "  </tbody>\n",
       "</table>\n",
       "<p>15341 rows × 9 columns</p>\n",
       "</div>"
      ],
      "text/plain": [
       "            cloud_cover  sunshine  global_radiation  max_temp  mean_temp  \\\n",
       "date                                                                       \n",
       "1979-01-01          2.0       7.0              52.0       2.3       -4.1   \n",
       "1979-01-02          6.0       1.7              27.0       1.6       -2.6   \n",
       "1979-01-03          5.0       0.0              13.0       1.3       -2.8   \n",
       "1979-01-04          8.0       0.0              13.0      -0.3       -2.6   \n",
       "1979-01-05          6.0       2.0              29.0       5.6       -0.8   \n",
       "...                 ...       ...               ...       ...        ...   \n",
       "2020-12-27          1.0       0.9              32.0       7.5        7.5   \n",
       "2020-12-28          7.0       3.7              38.0       3.6        1.1   \n",
       "2020-12-29          7.0       0.0              21.0       4.1        2.6   \n",
       "2020-12-30          6.0       0.4              22.0       5.6        2.7   \n",
       "2020-12-31          7.0       1.3              34.0       1.5       -0.8   \n",
       "\n",
       "            min_temp  precipitation  pressure  snow_depth  \n",
       "date                                                       \n",
       "1979-01-01      -7.5            0.4  101900.0         9.0  \n",
       "1979-01-02      -7.5            0.0  102530.0         8.0  \n",
       "1979-01-03      -7.2            0.0  102050.0         4.0  \n",
       "1979-01-04      -6.5            0.0  100840.0         2.0  \n",
       "1979-01-05      -1.4            0.0  102250.0         1.0  \n",
       "...              ...            ...       ...         ...  \n",
       "2020-12-27       7.6            2.0   98000.0         NaN  \n",
       "2020-12-28      -1.3            0.2   97370.0         NaN  \n",
       "2020-12-29       1.1            0.0   98830.0         NaN  \n",
       "2020-12-30      -0.1            0.0  100200.0         NaN  \n",
       "2020-12-31      -3.1            0.0  100500.0         NaN  \n",
       "\n",
       "[15341 rows x 9 columns]"
      ]
     },
     "execution_count": 15,
     "metadata": {},
     "output_type": "execute_result"
    }
   ],
   "source": [
    "#set date time as index\n",
    "df = df.set_index('date')\n",
    "df"
   ]
  },
  {
   "cell_type": "markdown",
   "id": "1126bd8a",
   "metadata": {},
   "source": [
    "## Filter the data\n",
    "- Keep only data from the year 2000 or later.\n",
    "- Keep only the following features:\n",
    " - precipitation\n",
    " - mean_temp\n",
    " - min_temp\n",
    " - max_temp\n",
    " - snow_depth"
   ]
  },
  {
   "cell_type": "code",
   "execution_count": 26,
   "id": "85f25a69",
   "metadata": {},
   "outputs": [
    {
     "data": {
      "text/html": [
       "<div>\n",
       "<style scoped>\n",
       "    .dataframe tbody tr th:only-of-type {\n",
       "        vertical-align: middle;\n",
       "    }\n",
       "\n",
       "    .dataframe tbody tr th {\n",
       "        vertical-align: top;\n",
       "    }\n",
       "\n",
       "    .dataframe thead th {\n",
       "        text-align: right;\n",
       "    }\n",
       "</style>\n",
       "<table border=\"1\" class=\"dataframe\">\n",
       "  <thead>\n",
       "    <tr style=\"text-align: right;\">\n",
       "      <th></th>\n",
       "      <th>precipitation</th>\n",
       "      <th>mean_temp</th>\n",
       "      <th>min_temp</th>\n",
       "      <th>max_temp</th>\n",
       "      <th>snow_depth</th>\n",
       "    </tr>\n",
       "  </thead>\n",
       "  <tbody>\n",
       "    <tr>\n",
       "      <th>2000</th>\n",
       "      <td>0.6</td>\n",
       "      <td>13.8</td>\n",
       "      <td>7.8</td>\n",
       "      <td>20.5</td>\n",
       "      <td>0.0</td>\n",
       "    </tr>\n",
       "    <tr>\n",
       "      <th>2001</th>\n",
       "      <td>0.0</td>\n",
       "      <td>14.8</td>\n",
       "      <td>9.0</td>\n",
       "      <td>22.9</td>\n",
       "      <td>0.0</td>\n",
       "    </tr>\n",
       "    <tr>\n",
       "      <th>2002</th>\n",
       "      <td>0.0</td>\n",
       "      <td>17.8</td>\n",
       "      <td>12.7</td>\n",
       "      <td>25.8</td>\n",
       "      <td>0.0</td>\n",
       "    </tr>\n",
       "    <tr>\n",
       "      <th>2003</th>\n",
       "      <td>0.0</td>\n",
       "      <td>19.3</td>\n",
       "      <td>12.8</td>\n",
       "      <td>24.4</td>\n",
       "      <td>0.0</td>\n",
       "    </tr>\n",
       "    <tr>\n",
       "      <th>2004</th>\n",
       "      <td>0.0</td>\n",
       "      <td>18.4</td>\n",
       "      <td>12.3</td>\n",
       "      <td>17.4</td>\n",
       "      <td>0.0</td>\n",
       "    </tr>\n",
       "    <tr>\n",
       "      <th>...</th>\n",
       "      <td>...</td>\n",
       "      <td>...</td>\n",
       "      <td>...</td>\n",
       "      <td>...</td>\n",
       "      <td>...</td>\n",
       "    </tr>\n",
       "    <tr>\n",
       "      <th>15336</th>\n",
       "      <td>2.0</td>\n",
       "      <td>7.5</td>\n",
       "      <td>7.6</td>\n",
       "      <td>7.5</td>\n",
       "      <td>NaN</td>\n",
       "    </tr>\n",
       "    <tr>\n",
       "      <th>15337</th>\n",
       "      <td>0.2</td>\n",
       "      <td>1.1</td>\n",
       "      <td>-1.3</td>\n",
       "      <td>3.6</td>\n",
       "      <td>NaN</td>\n",
       "    </tr>\n",
       "    <tr>\n",
       "      <th>15338</th>\n",
       "      <td>0.0</td>\n",
       "      <td>2.6</td>\n",
       "      <td>1.1</td>\n",
       "      <td>4.1</td>\n",
       "      <td>NaN</td>\n",
       "    </tr>\n",
       "    <tr>\n",
       "      <th>15339</th>\n",
       "      <td>0.0</td>\n",
       "      <td>2.7</td>\n",
       "      <td>-0.1</td>\n",
       "      <td>5.6</td>\n",
       "      <td>NaN</td>\n",
       "    </tr>\n",
       "    <tr>\n",
       "      <th>15340</th>\n",
       "      <td>0.0</td>\n",
       "      <td>-0.8</td>\n",
       "      <td>-3.1</td>\n",
       "      <td>1.5</td>\n",
       "      <td>NaN</td>\n",
       "    </tr>\n",
       "  </tbody>\n",
       "</table>\n",
       "<p>13341 rows × 5 columns</p>\n",
       "</div>"
      ],
      "text/plain": [
       "       precipitation  mean_temp  min_temp  max_temp  snow_depth\n",
       "2000             0.6       13.8       7.8      20.5         0.0\n",
       "2001             0.0       14.8       9.0      22.9         0.0\n",
       "2002             0.0       17.8      12.7      25.8         0.0\n",
       "2003             0.0       19.3      12.8      24.4         0.0\n",
       "2004             0.0       18.4      12.3      17.4         0.0\n",
       "...              ...        ...       ...       ...         ...\n",
       "15336            2.0        7.5       7.6       7.5         NaN\n",
       "15337            0.2        1.1      -1.3       3.6         NaN\n",
       "15338            0.0        2.6       1.1       4.1         NaN\n",
       "15339            0.0        2.7      -0.1       5.6         NaN\n",
       "15340            0.0       -0.8      -3.1       1.5         NaN\n",
       "\n",
       "[13341 rows x 5 columns]"
      ]
     },
     "execution_count": 26,
     "metadata": {},
     "output_type": "execute_result"
    }
   ],
   "source": [
    "# Filter data\n",
    "df = df.loc['2000':, ['precipitation', 'mean_temp', 'min_temp', \n",
    "                      'max_temp', 'snow_depth']]\n",
    "df"
   ]
  },
  {
   "cell_type": "markdown",
   "id": "98c9e6dc",
   "metadata": {},
   "source": [
    "## Missing values"
   ]
  },
  {
   "cell_type": "code",
   "execution_count": 27,
   "id": "52e6bdbe",
   "metadata": {},
   "outputs": [
    {
     "data": {
      "text/plain": [
       "precipitation     390\n",
       "mean_temp         419\n",
       "min_temp          386\n",
       "max_temp          390\n",
       "snow_depth       1752\n",
       "dtype: int64"
      ]
     },
     "execution_count": 27,
     "metadata": {},
     "output_type": "execute_result"
    }
   ],
   "source": [
    "# look at missing values\n",
    "df.isna().sum()"
   ]
  },
  {
   "cell_type": "code",
   "execution_count": 28,
   "id": "78558c45",
   "metadata": {},
   "outputs": [],
   "source": [
    "## interpolating temperature measures\n",
    "df['mean_temp'] = df['mean_temp'].interpolate()\n",
    "df['max_temp'] = df['max_temp'].interpolate()\n",
    "df['min_temp'] = df['min_temp'].interpolate()"
   ]
  },
  {
   "cell_type": "code",
   "execution_count": 29,
   "id": "53ff34a0",
   "metadata": {},
   "outputs": [
    {
     "data": {
      "text/plain": [
       "precipitation     390\n",
       "mean_temp           0\n",
       "min_temp            0\n",
       "max_temp            0\n",
       "snow_depth       1752\n",
       "dtype: int64"
      ]
     },
     "execution_count": 29,
     "metadata": {},
     "output_type": "execute_result"
    }
   ],
   "source": [
    "# look at missing values\n",
    "df.isna().sum()"
   ]
  },
  {
   "cell_type": "code",
   "execution_count": 30,
   "id": "4c7b4d02",
   "metadata": {},
   "outputs": [
    {
     "data": {
      "text/plain": [
       "count    11589.000000\n",
       "mean         0.025369\n",
       "std          0.345660\n",
       "min          0.000000\n",
       "25%          0.000000\n",
       "50%          0.000000\n",
       "75%          0.000000\n",
       "max         12.000000\n",
       "Name: snow_depth, dtype: float64"
      ]
     },
     "execution_count": 30,
     "metadata": {},
     "output_type": "execute_result"
    }
   ],
   "source": [
    "#look at snow\n",
    "df['snow_depth'].describe()"
   ]
  },
  {
   "cell_type": "code",
   "execution_count": 32,
   "id": "5c6393f1",
   "metadata": {},
   "outputs": [],
   "source": [
    "# filling snow with 0\n",
    "#df['precipitation'] = df['precipitation'].fillna(0)\n",
    "df['snow_depth'] = df['snow_depth'].fillna(method='bfill')"
   ]
  },
  {
   "cell_type": "code",
   "execution_count": 33,
   "id": "3498841b",
   "metadata": {},
   "outputs": [
    {
     "data": {
      "text/plain": [
       "count    12951.000000\n",
       "mean         1.652382\n",
       "std          3.711464\n",
       "min          0.000000\n",
       "25%          0.000000\n",
       "50%          0.000000\n",
       "75%          1.600000\n",
       "max         61.800000\n",
       "Name: precipitation, dtype: float64"
      ]
     },
     "execution_count": 33,
     "metadata": {},
     "output_type": "execute_result"
    }
   ],
   "source": [
    "#look at precipitation\n",
    "df['precipitation'].describe()"
   ]
  },
  {
   "cell_type": "code",
   "execution_count": 34,
   "id": "9d692dd4",
   "metadata": {},
   "outputs": [],
   "source": [
    "#fix precipation\n",
    "df['precipitation'] = df['precipitation'].interpolate()\n"
   ]
  },
  {
   "cell_type": "code",
   "execution_count": 35,
   "id": "0728886b",
   "metadata": {},
   "outputs": [
    {
     "data": {
      "text/plain": [
       "precipitation      0\n",
       "mean_temp          0\n",
       "min_temp           0\n",
       "max_temp           0\n",
       "snow_depth       366\n",
       "dtype: int64"
      ]
     },
     "execution_count": 35,
     "metadata": {},
     "output_type": "execute_result"
    }
   ],
   "source": [
    "# look at missing values\n",
    "df.isna().sum()"
   ]
  },
  {
   "cell_type": "code",
   "execution_count": 36,
   "id": "b1808c59",
   "metadata": {},
   "outputs": [
    {
     "data": {
      "text/plain": [
       "count    12975.000000\n",
       "mean         0.022659\n",
       "std          0.326769\n",
       "min          0.000000\n",
       "25%          0.000000\n",
       "50%          0.000000\n",
       "75%          0.000000\n",
       "max         12.000000\n",
       "Name: snow_depth, dtype: float64"
      ]
     },
     "execution_count": 36,
     "metadata": {},
     "output_type": "execute_result"
    }
   ],
   "source": [
    "# look at snow depth again\n",
    "df['snow_depth'].describe()"
   ]
  },
  {
   "cell_type": "code",
   "execution_count": 37,
   "id": "9597d700",
   "metadata": {},
   "outputs": [],
   "source": [
    "#fill with 0\n",
    "df['snow_depth'] = df['snow_depth'].fillna(0)"
   ]
  },
  {
   "cell_type": "code",
   "execution_count": 38,
   "id": "c322c0ad",
   "metadata": {},
   "outputs": [
    {
     "data": {
      "text/plain": [
       "precipitation    0\n",
       "mean_temp        0\n",
       "min_temp         0\n",
       "max_temp         0\n",
       "snow_depth       0\n",
       "dtype: int64"
      ]
     },
     "execution_count": 38,
     "metadata": {},
     "output_type": "execute_result"
    }
   ],
   "source": [
    "# look at missing values\n",
    "df.isna().sum()"
   ]
  },
  {
   "cell_type": "markdown",
   "id": "16436fa5",
   "metadata": {},
   "source": [
    "# Question 1"
   ]
  },
  {
   "cell_type": "markdown",
   "id": "8b9bfffc",
   "metadata": {},
   "source": [
    "- Resample the data as Monthly frequency.\n",
    "- Find the date and corresponding value for the max precipitation.\n",
    "- Plot the feature and time period that corresponds to the question.\n",
    "- \"Visualization Requirements\" \n",
    " - Determine the date and value for the most precipitation (the max precipitation).\n",
    " - Add a vertical line at this date with a label that says the date (using date format: \"April 2000\") and the max precipitation value.\n",
    " - Make sure to add a legend so that your label is visible."
   ]
  },
  {
   "cell_type": "code",
   "execution_count": 41,
   "id": "06f0c6bf",
   "metadata": {},
   "outputs": [
    {
     "data": {
      "text/html": [
       "<div>\n",
       "<style scoped>\n",
       "    .dataframe tbody tr th:only-of-type {\n",
       "        vertical-align: middle;\n",
       "    }\n",
       "\n",
       "    .dataframe tbody tr th {\n",
       "        vertical-align: top;\n",
       "    }\n",
       "\n",
       "    .dataframe thead th {\n",
       "        text-align: right;\n",
       "    }\n",
       "</style>\n",
       "<table border=\"1\" class=\"dataframe\">\n",
       "  <thead>\n",
       "    <tr style=\"text-align: right;\">\n",
       "      <th></th>\n",
       "      <th>precipitation</th>\n",
       "      <th>mean_temp</th>\n",
       "      <th>min_temp</th>\n",
       "      <th>max_temp</th>\n",
       "      <th>snow_depth</th>\n",
       "    </tr>\n",
       "  </thead>\n",
       "  <tbody>\n",
       "    <tr>\n",
       "      <th>2000</th>\n",
       "      <td>0.6</td>\n",
       "      <td>13.8</td>\n",
       "      <td>7.8</td>\n",
       "      <td>20.5</td>\n",
       "      <td>0.0</td>\n",
       "    </tr>\n",
       "    <tr>\n",
       "      <th>2001</th>\n",
       "      <td>0.0</td>\n",
       "      <td>14.8</td>\n",
       "      <td>9.0</td>\n",
       "      <td>22.9</td>\n",
       "      <td>0.0</td>\n",
       "    </tr>\n",
       "    <tr>\n",
       "      <th>2002</th>\n",
       "      <td>0.0</td>\n",
       "      <td>17.8</td>\n",
       "      <td>12.7</td>\n",
       "      <td>25.8</td>\n",
       "      <td>0.0</td>\n",
       "    </tr>\n",
       "    <tr>\n",
       "      <th>2003</th>\n",
       "      <td>0.0</td>\n",
       "      <td>19.3</td>\n",
       "      <td>12.8</td>\n",
       "      <td>24.4</td>\n",
       "      <td>0.0</td>\n",
       "    </tr>\n",
       "    <tr>\n",
       "      <th>2004</th>\n",
       "      <td>0.0</td>\n",
       "      <td>18.4</td>\n",
       "      <td>12.3</td>\n",
       "      <td>17.4</td>\n",
       "      <td>0.0</td>\n",
       "    </tr>\n",
       "  </tbody>\n",
       "</table>\n",
       "</div>"
      ],
      "text/plain": [
       "      precipitation  mean_temp  min_temp  max_temp  snow_depth\n",
       "2000            0.6       13.8       7.8      20.5         0.0\n",
       "2001            0.0       14.8       9.0      22.9         0.0\n",
       "2002            0.0       17.8      12.7      25.8         0.0\n",
       "2003            0.0       19.3      12.8      24.4         0.0\n",
       "2004            0.0       18.4      12.3      17.4         0.0"
      ]
     },
     "execution_count": 41,
     "metadata": {},
     "output_type": "execute_result"
    }
   ],
   "source": [
    "df.head()"
   ]
  },
  {
   "cell_type": "code",
   "execution_count": 44,
   "id": "551bece5",
   "metadata": {},
   "outputs": [
    {
     "data": {
      "text/plain": [
       "<AxesSubplot: >"
      ]
     },
     "execution_count": 44,
     "metadata": {},
     "output_type": "execute_result"
    },
    {
     "data": {
      "image/png": "[encoded data removed]",
      "text/plain": [
       "<Figure size 640x480 with 1 Axes>"
      ]
     },
     "metadata": {},
     "output_type": "display_data"
    }
   ],
   "source": [
    "ts = df['precipitation'].copy()\n",
    "ts.plot()"
   ]
  },
  {
   "cell_type": "code",
   "execution_count": 45,
   "id": "1b33d15d",
   "metadata": {},
   "outputs": [
    {
     "data": {
      "text/plain": [
       "DatetimeIndex(['1970-01-01 00:00:00.000002'], dtype='datetime64[ns]', freq='MS')"
      ]
     },
     "execution_count": 45,
     "metadata": {},
     "output_type": "execute_result"
    }
   ],
   "source": [
    "##  set daily frequency\n",
    "ts = ts.asfreq('MS')\n",
    "##  preview the index again\n",
    "ts.index"
   ]
  },
  {
   "cell_type": "code",
   "execution_count": 47,
   "id": "02918e0c",
   "metadata": {},
   "outputs": [
    {
     "data": {
      "text/plain": [
       "1970-01-01   NaN\n",
       "Freq: MS, Name: Resampled, dtype: float64"
      ]
     },
     "execution_count": 47,
     "metadata": {},
     "output_type": "execute_result"
    }
   ],
   "source": [
    "# resample month\n",
    "ts_MS_res = ts.resample(\"MS\").mean()\n",
    "ts_MS_res.name = 'Resampled'\n",
    "ts_MS_res.head()\n",
    "\n"
   ]
  },
  {
   "cell_type": "code",
   "execution_count": 48,
   "id": "7da51d80",
   "metadata": {},
   "outputs": [
    {
     "data": {
      "text/html": [
       "<div>\n",
       "<style scoped>\n",
       "    .dataframe tbody tr th:only-of-type {\n",
       "        vertical-align: middle;\n",
       "    }\n",
       "\n",
       "    .dataframe tbody tr th {\n",
       "        vertical-align: top;\n",
       "    }\n",
       "\n",
       "    .dataframe thead th {\n",
       "        text-align: right;\n",
       "    }\n",
       "</style>\n",
       "<table border=\"1\" class=\"dataframe\">\n",
       "  <thead>\n",
       "    <tr style=\"text-align: right;\">\n",
       "      <th></th>\n",
       "      <th>precipitation</th>\n",
       "      <th>mean_temp</th>\n",
       "      <th>min_temp</th>\n",
       "      <th>max_temp</th>\n",
       "      <th>snow_depth</th>\n",
       "    </tr>\n",
       "  </thead>\n",
       "  <tbody>\n",
       "    <tr>\n",
       "      <th>2000</th>\n",
       "      <td>0.6</td>\n",
       "      <td>13.8</td>\n",
       "      <td>7.8</td>\n",
       "      <td>20.5</td>\n",
       "      <td>0.0</td>\n",
       "    </tr>\n",
       "    <tr>\n",
       "      <th>2001</th>\n",
       "      <td>0.0</td>\n",
       "      <td>14.8</td>\n",
       "      <td>9.0</td>\n",
       "      <td>22.9</td>\n",
       "      <td>0.0</td>\n",
       "    </tr>\n",
       "    <tr>\n",
       "      <th>2002</th>\n",
       "      <td>0.0</td>\n",
       "      <td>17.8</td>\n",
       "      <td>12.7</td>\n",
       "      <td>25.8</td>\n",
       "      <td>0.0</td>\n",
       "    </tr>\n",
       "    <tr>\n",
       "      <th>2003</th>\n",
       "      <td>0.0</td>\n",
       "      <td>19.3</td>\n",
       "      <td>12.8</td>\n",
       "      <td>24.4</td>\n",
       "      <td>0.0</td>\n",
       "    </tr>\n",
       "    <tr>\n",
       "      <th>2004</th>\n",
       "      <td>0.0</td>\n",
       "      <td>18.4</td>\n",
       "      <td>12.3</td>\n",
       "      <td>17.4</td>\n",
       "      <td>0.0</td>\n",
       "    </tr>\n",
       "  </tbody>\n",
       "</table>\n",
       "</div>"
      ],
      "text/plain": [
       "      precipitation  mean_temp  min_temp  max_temp  snow_depth\n",
       "2000            0.6       13.8       7.8      20.5         0.0\n",
       "2001            0.0       14.8       9.0      22.9         0.0\n",
       "2002            0.0       17.8      12.7      25.8         0.0\n",
       "2003            0.0       19.3      12.8      24.4         0.0\n",
       "2004            0.0       18.4      12.3      17.4         0.0"
      ]
     },
     "execution_count": 48,
     "metadata": {},
     "output_type": "execute_result"
    }
   ],
   "source": [
    "df.head()"
   ]
  },
  {
   "cell_type": "code",
   "execution_count": null,
   "id": "b8069268",
   "metadata": {},
   "outputs": [],
   "source": []
  },
  {
   "cell_type": "code",
   "execution_count": null,
   "id": "e6a297c2",
   "metadata": {},
   "outputs": [],
   "source": []
  },
  {
   "cell_type": "code",
   "execution_count": null,
   "id": "0366427b",
   "metadata": {},
   "outputs": [],
   "source": []
  },
  {
   "cell_type": "code",
   "execution_count": null,
   "id": "999c5293",
   "metadata": {},
   "outputs": [],
   "source": []
  },
  {
   "cell_type": "code",
   "execution_count": null,
   "id": "b76bdf28",
   "metadata": {},
   "outputs": [],
   "source": []
  },
  {
   "cell_type": "code",
   "execution_count": null,
   "id": "e49738a5",
   "metadata": {},
   "outputs": [],
   "source": []
  },
  {
   "cell_type": "code",
   "execution_count": null,
   "id": "6e8ef804",
   "metadata": {},
   "outputs": [],
   "source": []
  },
  {
   "cell_type": "code",
   "execution_count": null,
   "id": "a8bc0307",
   "metadata": {},
   "outputs": [],
   "source": []
  },
  {
   "cell_type": "code",
   "execution_count": null,
   "id": "ffa0afec",
   "metadata": {},
   "outputs": [],
   "source": []
  }
 ],
 "metadata": {
  "kernelspec": {
   "display_name": "Python (dojo-env)",
   "language": "python",
   "name": "dojo-env"
  },
  "language_info": {
   "codemirror_mode": {
    "name": "ipython",
    "version": 3
   },
   "file_extension": ".py",
   "mimetype": "text/x-python",
   "name": "python",
   "nbconvert_exporter": "python",
   "pygments_lexer": "ipython3",
   "version": "3.9.15"
  },
  "toc": {
   "base_numbering": 1,
   "nav_menu": {},
   "number_sections": true,
   "sideBar": true,
   "skip_h1_title": false,
   "title_cell": "Table of Contents",
   "title_sidebar": "Contents",
   "toc_cell": false,
   "toc_position": {},
   "toc_section_display": true,
   "toc_window_display": false
  }
 },
 "nbformat": 4,
 "nbformat_minor": 5
}
